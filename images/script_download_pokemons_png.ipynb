{
 "cells": [
  {
   "cell_type": "code",
   "execution_count": 2,
   "metadata": {},
   "outputs": [],
   "source": [
    "#Importação de pacotes\n",
    "import pandas as pd\n",
    "import urllib.request\n",
    "import sys\n",
    "\n",
    "#Configuração de variáveis\n",
    "url_lista = 'https://raw.githubusercontent.com/cristiano-silva-0182/DesafioPokemon/main/images/url_images_pokemons.csv'\n",
    "lista = pd.read_csv(url_lista)\n",
    "lista_ids = list(lista['id_pokemon'])\n",
    "lista_nome_img = list(lista['name_img_pokemon'])\n",
    "lista_url = list(lista['url_image'])\n",
    "caminho = 'Indique aqui o caminho da pasta onde você irá salvar a imagem.'"
   ]
  },
  {
   "cell_type": "code",
   "execution_count": null,
   "metadata": {},
   "outputs": [],
   "source": [
    "#processo de Download\n",
    "for id, nome,url, in zip(lista_ids, lista_nome_img,lista_url):\n",
    "    nome_arquivo = caminho+nome\n",
    "    try:\n",
    "        urllib.request.urlretrieve(url, nome_arquivo)\n",
    "        print(f'Imagem {id} salva com sucesso.')\n",
    "    except:\n",
    "        erro = sys.exc_info()\n",
    "        print(f'Imagem {id} não foi salva.', erro)\n"
   ]
  }
 ],
 "metadata": {
  "kernelspec": {
   "display_name": "Python 3.9.12 ('base')",
   "language": "python",
   "name": "python3"
  },
  "language_info": {
   "codemirror_mode": {
    "name": "ipython",
    "version": 3
   },
   "file_extension": ".py",
   "mimetype": "text/x-python",
   "name": "python",
   "nbconvert_exporter": "python",
   "pygments_lexer": "ipython3",
   "version": "3.9.12"
  },
  "orig_nbformat": 4,
  "vscode": {
   "interpreter": {
    "hash": "ba4fb6d514434125b6aea5eb7aef742b3a0cd1e36ab2d6e354ab9717100b4a00"
   }
  }
 },
 "nbformat": 4,
 "nbformat_minor": 2
}
